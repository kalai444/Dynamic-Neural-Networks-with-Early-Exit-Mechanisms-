{
  "nbformat": 4,
  "nbformat_minor": 0,
  "metadata": {
    "colab": {
      "provenance": [],
      "authorship_tag": "ABX9TyMx1Bw8ReAiM1cwqMGULvZa",
      "include_colab_link": true
    },
    "kernelspec": {
      "name": "python3",
      "display_name": "Python 3"
    },
    "language_info": {
      "name": "python"
    }
  },
  "cells": [
    {
      "cell_type": "markdown",
      "metadata": {
        "id": "view-in-github",
        "colab_type": "text"
      },
      "source": [
        "<a href=\"https://colab.research.google.com/github/kalai444/Dynamic-Neural-Networks-with-Early-Exit-Mechanisms-/blob/main/Dynamic_Neural_networks_V1.ipynb\" target=\"_parent\"><img src=\"https://colab.research.google.com/assets/colab-badge.svg\" alt=\"Open In Colab\"/></a>"
      ]
    },
    {
      "cell_type": "code",
      "execution_count": null,
      "metadata": {
        "id": "DOMmjDZQMyA6"
      },
      "outputs": [],
      "source": [
        "import tensorflow as tf\n",
        "from tensorflow.keras import layers,models,losses, optimizers\n",
        "import numpy as np\n",
        "import matplotlib.pyplot as plt\n",
        "import PIL\n",
        "from PIL import Image\n",
        "from google.colab import files"
      ]
    },
    {
      "cell_type": "code",
      "source": [
        "(x_train,y_train),(x_test,y_test)=tf.keras.datasets.cifar10.load_data()\n",
        "x_train,x_test = x_train/225,x_test/255\n",
        "y_train,y_test = y_train.flatten(),y_test.flatten()\n"
      ],
      "metadata": {
        "id": "KCiaY-9gNMVg"
      },
      "execution_count": null,
      "outputs": []
    },
    {
      "cell_type": "code",
      "source": [
        "def build_dynamic_model(num_classes=10):\n",
        "    inputs = tf.keras.Input(shape=(32, 32, 3))\n",
        "    x = layers.Conv2D(32, 3, activation='relu',padding='same')(inputs)\n",
        "    x = layers.Conv2D(32, 3, activation='relu',padding='same')(inputs)\n",
        "    x = layers.MaxPooling2D()(x)\n",
        "    x1 = layers.GlobalAveragePooling2D()(x)\n",
        "    exit1 = layers.Dense(64, activation='relu')(x1)\n",
        "    exit1 = layers.Dense(num_classes, activation='softmax', name='exit1')(exit1)\n",
        "    x = layers.Conv2D(64, 3, activation='relu',padding='same')(x)\n",
        "    x = layers.MaxPooling2D()(x)\n",
        "    x2 = layers.GlobalAveragePooling2D()(x)\n",
        "    exit2 = layers.Dense(64, activation='relu')(x2)\n",
        "    exit2 = layers.Dense(num_classes, activation='softmax', name='exit2')(exit2)\n",
        "    x = layers.Conv2D(64, 3, activation='relu',padding='same')(x)\n",
        "    x = layers.MaxPooling2D()(x)\n",
        "    x3 = layers.GlobalAveragePooling2D()(x)\n",
        "    exit3 = layers.Dense(64, activation='relu')(x3)\n",
        "    exit3 = layers.Dense(num_classes, activation='softmax', name='exit3')(exit3)\n",
        "    x = layers.Conv2D(128, 3, activation='relu',padding='same')(x)\n",
        "    x = layers.GlobalAveragePooling2D()(x)\n",
        "    x = layers.Dense(64, activation='relu')(x)\n",
        "    final_output = layers.Dense(num_classes, activation='softmax', name='final')(x)\n",
        "    model = tf.keras.Model(inputs=inputs, outputs=[exit1, exit2, exit3, final_output])\n",
        "    return model\n",
        "\n",
        "model = build_dynamic_model()\n",
        "\n",
        "model.compile(\n",
        "    optimizer='adam',\n",
        "    loss=[losses.SparseCategoricalCrossentropy(),\n",
        "          losses.SparseCategoricalCrossentropy(),\n",
        "          losses.SparseCategoricalCrossentropy(),\n",
        "          losses.SparseCategoricalCrossentropy()],\n",
        "    loss_weights=[0.1, 0.2,0.3, 0.4],\n",
        "    metrics=['accuracy','accuracy','accuracy','accuracy']\n",
        ")\n",
        "\n",
        "model.fit(x_train, [y_train, y_train, y_train,y_train],\n",
        "          epochs=10, batch_size=64,\n",
        "          validation_split=0.1)\n",
        "model.save('my_model_loss_4blocks_1.keras')"
      ],
      "metadata": {
        "id": "LfCOEfA4OXpV"
      },
      "execution_count": null,
      "outputs": []
    },
    {
      "cell_type": "code",
      "source": [
        "model = tf.keras.models.load_model('my_model_loss_4blocks_1.keras')\n",
        "# model.summary()"
      ],
      "metadata": {
        "id": "bpiBkuz0NQFf"
      },
      "execution_count": null,
      "outputs": []
    },
    {
      "cell_type": "code",
      "source": [
        "def early_exit_predict(model, x, threshold):\n",
        "    predictions = model.predict(x)\n",
        "    exit_layers = []\n",
        "    for i in range(len(x)):\n",
        "        exited = False\n",
        "        for j, pred in enumerate(predictions):\n",
        "            conf = np.max(pred[i])\n",
        "            if conf >= threshold:\n",
        "              # exit_2_3.append(x[i])\n",
        "                # exit_2_3.append(x[i],f'{j+1}')\n",
        "                # I = Image.fromarray((x[i]*255).astype(np.uint8))\n",
        "                # I = I.save(f'{j + 1}' + f'{i}'+'.png')\n",
        "                # files.download(f'{j+1}'+f'{i}'+'.png')\n",
        "              exit_layers.append(j + 1)\n",
        "              exited = True\n",
        "              break\n",
        "        if exited == False:\n",
        "          exit_layers.append(5)\n",
        "    return exit_layers\n",
        "exit_layers = early_exit_predict(model, x_test[:1000], threshold=0.70)\n",
        "\n"
      ],
      "metadata": {
        "id": "koxujdgoNkPv"
      },
      "execution_count": null,
      "outputs": []
    },
    {
      "cell_type": "code",
      "source": [
        "exit_layers = early_exit_predict(model, x_test[:1000], threshold=0.70)\n",
        "hard_indices = [i for i, exit in enumerate(exit_layers) if exit == 4]\n",
        "hard_images = x_test[hard_indices]\n",
        "hard_labels = y_test[hard_indices]\n",
        "easy_indices = [i for i, exit in enumerate(exit_layers) if exit == 1 or exit==2 or exit== 3]\n",
        "easy_images = x_test[easy_indices]\n",
        "easy_labels = y_test[easy_indices]\n",
        "# print(len(hard_indices))\n",
        "# print(len(easy_indices))"
      ],
      "metadata": {
        "id": "ziGPBUWPlWhT"
      },
      "execution_count": null,
      "outputs": []
    },
    {
      "cell_type": "code",
      "source": [
        "import matplotlib.pyplot as plt\n",
        "\n",
        "def show_images(images, labels, title, n=12):\n",
        "    plt.figure(figsize=(15, 3))\n",
        "    for i in range(n):\n",
        "        plt.subplot(1, n, i+1)\n",
        "        plt.imshow(images[i])\n",
        "        plt.title(f\"Label: {labels[i]}\")\n",
        "        plt.axis('off')\n",
        "    plt.suptitle(title)\n",
        "    plt.show()\n",
        "\n",
        "show_images(hard_images, hard_labels, \"Hard Images\")\n",
        "show_images(easy_images, easy_labels, \"Easy Images\")\n"
      ],
      "metadata": {
        "id": "w58xWtfMmBdS"
      },
      "execution_count": null,
      "outputs": []
    },
    {
      "cell_type": "code",
      "source": [],
      "metadata": {
        "id": "6VcvtDafauf4"
      },
      "execution_count": null,
      "outputs": []
    },
    {
      "cell_type": "code",
      "source": [
        "features_model = tf.keras.Model(inputs=model.input, outputs=model.get_layer('conv2d_7').output)\n",
        "easy_features = features_model.predict(easy_images)\n",
        "hard_features = features_model.predict(hard_images)\n"
      ],
      "metadata": {
        "id": "sFgzYwxHQPoT"
      },
      "execution_count": null,
      "outputs": []
    },
    {
      "cell_type": "code",
      "source": [
        "one_easy_image = easy_images[0]  # shape: (32, 32, 3)\n",
        "one_hard_image = hard_images[0]  # shape: (32, 32, 3)\n",
        "one_easy_image_batch = np.expand_dims(one_easy_image, axis=0)\n",
        "one_hard_image_batch = np.expand_dims(one_hard_image, axis=0)\n",
        "feature_oneimage_E = features_model.predict(one_easy_image_batch)\n",
        "feature_oneimage_H = features_model.predict(one_hard_image_batch)\n",
        "mean_activation_E = np.mean(feature_oneimage_E)\n",
        "mean_activation_H = np.mean(feature_oneimage_H)\n",
        "print(\"Mean activation for single easy image:\", mean_activation_E)\n",
        "print(\"Mean activation for single easy image:\", mean_activation_H)\n"
      ],
      "metadata": {
        "id": "X5swcxOia8Cv"
      },
      "execution_count": null,
      "outputs": []
    },
    {
      "cell_type": "code",
      "source": [
        "easy_mean_features = np.mean(easy_features, axis=(1,2,3))\n",
        "hard_mean_features = np.mean(hard_features, axis=(1,2,3))\n",
        "print(easy_mean_features)\n",
        "print(hard_mean_features)"
      ],
      "metadata": {
        "id": "9SlANuqeSZg1"
      },
      "execution_count": null,
      "outputs": []
    },
    {
      "cell_type": "code",
      "source": [
        "import matplotlib.pyplot as plt\n",
        "\n",
        "plt.figure(figsize=(8,5))\n",
        "plt.hist(easy_mean_features, bins=30, alpha=0.6, label='Easy', color='green')\n",
        "plt.hist(hard_mean_features, bins=30, alpha=0.6, label='Hard', color='red')\n",
        "plt.title(\"Histogram of Mean Activations\")\n",
        "plt.xlabel(\"Mean Activation Value\")\n",
        "plt.ylabel(\"Frequency\")\n",
        "plt.legend()\n",
        "plt.grid(True)\n",
        "plt.show()\n"
      ],
      "metadata": {
        "id": "ai2Q2KvhTEcQ"
      },
      "execution_count": null,
      "outputs": []
    },
    {
      "cell_type": "code",
      "source": [
        "plt.hist(exit_layers,bins=[0.5, 1.5, 2.5, 3.5, 4.5, 5.5],  rwidth=0.8)\n",
        "plt.xticks([1,2,3,4,5], ['Exit 1', 'Exit 2','Exit 3','Final','Not met the threshold'])\n",
        "plt.title(\"Exit Layer Distribution (Confidence ≥ 0.7)\")\n",
        "plt.xlabel(\"Exit Point\")\n",
        "plt.ylabel(\"Number of Images\")\n",
        "plt.show()"
      ],
      "metadata": {
        "id": "XJkgT74SNlg4"
      },
      "execution_count": null,
      "outputs": []
    }
  ]
}